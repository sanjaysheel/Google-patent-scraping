{
 "cells": [
  {
   "cell_type": "code",
   "execution_count": 1,
   "id": "3cdd402f",
   "metadata": {},
   "outputs": [],
   "source": [
    "from selenium import webdriver\n",
    "import time \n",
    "import random\n",
    "import csv\n",
    "from selenium.webdriver.chrome.remote_connection import ChromeRemoteConnection\n",
    "from selenium.webdriver.common.by import By\n",
    "from selenium.common.exceptions import NoSuchElementException, TimeoutException\n",
    "from selenium.webdriver.support import expected_conditions as EC    \n",
    "from selenium.webdriver.support.ui import WebDriverWait\n",
    "import pandas as pd\n",
    "import requests\n",
    "import scrapy"
   ]
  },
  {
   "cell_type": "code",
   "execution_count": 2,
   "id": "5e3b7b37",
   "metadata": {},
   "outputs": [],
   "source": [
    "driver = webdriver.Chrome()"
   ]
  },
  {
   "cell_type": "code",
   "execution_count": 3,
   "id": "dba52e04",
   "metadata": {},
   "outputs": [],
   "source": [
    "driver.get(\"https://patents.google.com/\")"
   ]
  },
  {
   "cell_type": "code",
   "execution_count": 4,
   "id": "10d7cc3d",
   "metadata": {},
   "outputs": [],
   "source": [
    "driver.find_element_by_id('searchInput').send_keys('US20120290487A1')"
   ]
  },
  {
   "cell_type": "code",
   "execution_count": 5,
   "id": "08cbdeaf",
   "metadata": {},
   "outputs": [],
   "source": [
    "driver.find_element_by_id('searchButton').click()"
   ]
  },
  {
   "cell_type": "markdown",
   "id": "7cc88218",
   "metadata": {},
   "source": [
    "# Heading of patent"
   ]
  },
  {
   "cell_type": "code",
   "execution_count": 6,
   "id": "b814384f",
   "metadata": {},
   "outputs": [
    {
     "ename": "NoSuchElementException",
     "evalue": "Message: no such element: Unable to locate element: {\"method\":\"css selector\",\"selector\":\"[id=\"pubnum\"]\"}\n  (Session info: chrome=90.0.4430.72)\n",
     "output_type": "error",
     "traceback": [
      "\u001b[0;31m---------------------------------------------------------------------------\u001b[0m",
      "\u001b[0;31mNoSuchElementException\u001b[0m                    Traceback (most recent call last)",
      "\u001b[0;32m<ipython-input-6-fbdfdf7992bf>\u001b[0m in \u001b[0;36m<module>\u001b[0;34m\u001b[0m\n\u001b[0;32m----> 1\u001b[0;31m \u001b[0mst\u001b[0m \u001b[0;34m=\u001b[0m \u001b[0mdriver\u001b[0m\u001b[0;34m.\u001b[0m\u001b[0mfind_element_by_id\u001b[0m\u001b[0;34m(\u001b[0m\u001b[0;34m'pubnum'\u001b[0m\u001b[0;34m)\u001b[0m\u001b[0;34m.\u001b[0m\u001b[0mtext\u001b[0m\u001b[0;34m\u001b[0m\u001b[0;34m\u001b[0m\u001b[0m\n\u001b[0m\u001b[1;32m      2\u001b[0m \u001b[0mst\u001b[0m\u001b[0;34m\u001b[0m\u001b[0;34m\u001b[0m\u001b[0m\n",
      "\u001b[0;32m~/Desktop/LAST_BID_EC/.venv/lib/python3.6/site-packages/selenium/webdriver/remote/webdriver.py\u001b[0m in \u001b[0;36mfind_element_by_id\u001b[0;34m(self, id_)\u001b[0m\n\u001b[1;32m    358\u001b[0m             \u001b[0melement\u001b[0m \u001b[0;34m=\u001b[0m \u001b[0mdriver\u001b[0m\u001b[0;34m.\u001b[0m\u001b[0mfind_element_by_id\u001b[0m\u001b[0;34m(\u001b[0m\u001b[0;34m'foo'\u001b[0m\u001b[0;34m)\u001b[0m\u001b[0;34m\u001b[0m\u001b[0;34m\u001b[0m\u001b[0m\n\u001b[1;32m    359\u001b[0m         \"\"\"\n\u001b[0;32m--> 360\u001b[0;31m         \u001b[0;32mreturn\u001b[0m \u001b[0mself\u001b[0m\u001b[0;34m.\u001b[0m\u001b[0mfind_element\u001b[0m\u001b[0;34m(\u001b[0m\u001b[0mby\u001b[0m\u001b[0;34m=\u001b[0m\u001b[0mBy\u001b[0m\u001b[0;34m.\u001b[0m\u001b[0mID\u001b[0m\u001b[0;34m,\u001b[0m \u001b[0mvalue\u001b[0m\u001b[0;34m=\u001b[0m\u001b[0mid_\u001b[0m\u001b[0;34m)\u001b[0m\u001b[0;34m\u001b[0m\u001b[0;34m\u001b[0m\u001b[0m\n\u001b[0m\u001b[1;32m    361\u001b[0m \u001b[0;34m\u001b[0m\u001b[0m\n\u001b[1;32m    362\u001b[0m     \u001b[0;32mdef\u001b[0m \u001b[0mfind_elements_by_id\u001b[0m\u001b[0;34m(\u001b[0m\u001b[0mself\u001b[0m\u001b[0;34m,\u001b[0m \u001b[0mid_\u001b[0m\u001b[0;34m)\u001b[0m\u001b[0;34m:\u001b[0m\u001b[0;34m\u001b[0m\u001b[0;34m\u001b[0m\u001b[0m\n",
      "\u001b[0;32m~/Desktop/LAST_BID_EC/.venv/lib/python3.6/site-packages/selenium/webdriver/remote/webdriver.py\u001b[0m in \u001b[0;36mfind_element\u001b[0;34m(self, by, value)\u001b[0m\n\u001b[1;32m    976\u001b[0m         return self.execute(Command.FIND_ELEMENT, {\n\u001b[1;32m    977\u001b[0m             \u001b[0;34m'using'\u001b[0m\u001b[0;34m:\u001b[0m \u001b[0mby\u001b[0m\u001b[0;34m,\u001b[0m\u001b[0;34m\u001b[0m\u001b[0;34m\u001b[0m\u001b[0m\n\u001b[0;32m--> 978\u001b[0;31m             'value': value})['value']\n\u001b[0m\u001b[1;32m    979\u001b[0m \u001b[0;34m\u001b[0m\u001b[0m\n\u001b[1;32m    980\u001b[0m     \u001b[0;32mdef\u001b[0m \u001b[0mfind_elements\u001b[0m\u001b[0;34m(\u001b[0m\u001b[0mself\u001b[0m\u001b[0;34m,\u001b[0m \u001b[0mby\u001b[0m\u001b[0;34m=\u001b[0m\u001b[0mBy\u001b[0m\u001b[0;34m.\u001b[0m\u001b[0mID\u001b[0m\u001b[0;34m,\u001b[0m \u001b[0mvalue\u001b[0m\u001b[0;34m=\u001b[0m\u001b[0;32mNone\u001b[0m\u001b[0;34m)\u001b[0m\u001b[0;34m:\u001b[0m\u001b[0;34m\u001b[0m\u001b[0;34m\u001b[0m\u001b[0m\n",
      "\u001b[0;32m~/Desktop/LAST_BID_EC/.venv/lib/python3.6/site-packages/selenium/webdriver/remote/webdriver.py\u001b[0m in \u001b[0;36mexecute\u001b[0;34m(self, driver_command, params)\u001b[0m\n\u001b[1;32m    319\u001b[0m         \u001b[0mresponse\u001b[0m \u001b[0;34m=\u001b[0m \u001b[0mself\u001b[0m\u001b[0;34m.\u001b[0m\u001b[0mcommand_executor\u001b[0m\u001b[0;34m.\u001b[0m\u001b[0mexecute\u001b[0m\u001b[0;34m(\u001b[0m\u001b[0mdriver_command\u001b[0m\u001b[0;34m,\u001b[0m \u001b[0mparams\u001b[0m\u001b[0;34m)\u001b[0m\u001b[0;34m\u001b[0m\u001b[0;34m\u001b[0m\u001b[0m\n\u001b[1;32m    320\u001b[0m         \u001b[0;32mif\u001b[0m \u001b[0mresponse\u001b[0m\u001b[0;34m:\u001b[0m\u001b[0;34m\u001b[0m\u001b[0;34m\u001b[0m\u001b[0m\n\u001b[0;32m--> 321\u001b[0;31m             \u001b[0mself\u001b[0m\u001b[0;34m.\u001b[0m\u001b[0merror_handler\u001b[0m\u001b[0;34m.\u001b[0m\u001b[0mcheck_response\u001b[0m\u001b[0;34m(\u001b[0m\u001b[0mresponse\u001b[0m\u001b[0;34m)\u001b[0m\u001b[0;34m\u001b[0m\u001b[0;34m\u001b[0m\u001b[0m\n\u001b[0m\u001b[1;32m    322\u001b[0m             response['value'] = self._unwrap_value(\n\u001b[1;32m    323\u001b[0m                 response.get('value', None))\n",
      "\u001b[0;32m~/Desktop/LAST_BID_EC/.venv/lib/python3.6/site-packages/selenium/webdriver/remote/errorhandler.py\u001b[0m in \u001b[0;36mcheck_response\u001b[0;34m(self, response)\u001b[0m\n\u001b[1;32m    240\u001b[0m                 \u001b[0malert_text\u001b[0m \u001b[0;34m=\u001b[0m \u001b[0mvalue\u001b[0m\u001b[0;34m[\u001b[0m\u001b[0;34m'alert'\u001b[0m\u001b[0;34m]\u001b[0m\u001b[0;34m.\u001b[0m\u001b[0mget\u001b[0m\u001b[0;34m(\u001b[0m\u001b[0;34m'text'\u001b[0m\u001b[0;34m)\u001b[0m\u001b[0;34m\u001b[0m\u001b[0;34m\u001b[0m\u001b[0m\n\u001b[1;32m    241\u001b[0m             \u001b[0;32mraise\u001b[0m \u001b[0mexception_class\u001b[0m\u001b[0;34m(\u001b[0m\u001b[0mmessage\u001b[0m\u001b[0;34m,\u001b[0m \u001b[0mscreen\u001b[0m\u001b[0;34m,\u001b[0m \u001b[0mstacktrace\u001b[0m\u001b[0;34m,\u001b[0m \u001b[0malert_text\u001b[0m\u001b[0;34m)\u001b[0m\u001b[0;34m\u001b[0m\u001b[0;34m\u001b[0m\u001b[0m\n\u001b[0;32m--> 242\u001b[0;31m         \u001b[0;32mraise\u001b[0m \u001b[0mexception_class\u001b[0m\u001b[0;34m(\u001b[0m\u001b[0mmessage\u001b[0m\u001b[0;34m,\u001b[0m \u001b[0mscreen\u001b[0m\u001b[0;34m,\u001b[0m \u001b[0mstacktrace\u001b[0m\u001b[0;34m)\u001b[0m\u001b[0;34m\u001b[0m\u001b[0;34m\u001b[0m\u001b[0m\n\u001b[0m\u001b[1;32m    243\u001b[0m \u001b[0;34m\u001b[0m\u001b[0m\n\u001b[1;32m    244\u001b[0m     \u001b[0;32mdef\u001b[0m \u001b[0m_value_or_default\u001b[0m\u001b[0;34m(\u001b[0m\u001b[0mself\u001b[0m\u001b[0;34m,\u001b[0m \u001b[0mobj\u001b[0m\u001b[0;34m,\u001b[0m \u001b[0mkey\u001b[0m\u001b[0;34m,\u001b[0m \u001b[0mdefault\u001b[0m\u001b[0;34m)\u001b[0m\u001b[0;34m:\u001b[0m\u001b[0;34m\u001b[0m\u001b[0;34m\u001b[0m\u001b[0m\n",
      "\u001b[0;31mNoSuchElementException\u001b[0m: Message: no such element: Unable to locate element: {\"method\":\"css selector\",\"selector\":\"[id=\"pubnum\"]\"}\n  (Session info: chrome=90.0.4430.72)\n"
     ]
    }
   ],
   "source": [
    "st = driver.find_element_by_id('pubnum').text\n",
    "st"
   ]
  },
  {
   "cell_type": "code",
   "execution_count": null,
   "id": "f1218ce7",
   "metadata": {},
   "outputs": [],
   "source": [
    "dir(st)"
   ]
  },
  {
   "cell_type": "code",
   "execution_count": null,
   "id": "4daf1354",
   "metadata": {},
   "outputs": [],
   "source": [
    "st1 = driver.find_element_by_link_text('Download PDF').get_attribute('href')\n",
    "st1"
   ]
  },
  {
   "cell_type": "code",
   "execution_count": null,
   "id": "8884c741",
   "metadata": {},
   "outputs": [],
   "source": [
    "dir(st1)"
   ]
  },
  {
   "cell_type": "code",
   "execution_count": null,
   "id": "ca787257",
   "metadata": {},
   "outputs": [],
   "source": [
    "st3 = driver.find_element_by_class_name(\"tagline\").text\n",
    "st3"
   ]
  },
  {
   "cell_type": "code",
   "execution_count": null,
   "id": "9c68e283",
   "metadata": {},
   "outputs": [],
   "source": [
    "st4 = driver.find_element_by_class_name(\"important-people.style-scope.patent-result\").text\n",
    "st4"
   ]
  },
  {
   "cell_type": "code",
   "execution_count": null,
   "id": "b8458b8d",
   "metadata": {},
   "outputs": [],
   "source": [
    "st5 = driver.find_element_by_css_selector(\"img\")\n",
    "st5.get_attribute('src')"
   ]
  },
  {
   "cell_type": "code",
   "execution_count": null,
   "id": "7388f523",
   "metadata": {},
   "outputs": [],
   "source": [
    "dir(driver)"
   ]
  },
  {
   "cell_type": "code",
   "execution_count": null,
   "id": "656df176",
   "metadata": {},
   "outputs": [],
   "source": [
    "st5 = driver.find_elements_by_tag_name('img')\n",
    "dir(st5)"
   ]
  },
  {
   "cell_type": "code",
   "execution_count": null,
   "id": "de727ce5",
   "metadata": {},
   "outputs": [],
   "source": [
    "for i in st5:\n",
    "    print(dir(i))\n",
    "    break\n",
    "    "
   ]
  },
  {
   "cell_type": "code",
   "execution_count": null,
   "id": "1fcaa4e6",
   "metadata": {},
   "outputs": [],
   "source": [
    "for i in st5:\n",
    "    print(i.get_attribute(\"src\"))\n"
   ]
  },
  {
   "cell_type": "code",
   "execution_count": null,
   "id": "cfb74527",
   "metadata": {},
   "outputs": [],
   "source": [
    "len(st5)"
   ]
  },
  {
   "cell_type": "code",
   "execution_count": null,
   "id": "53f85745",
   "metadata": {},
   "outputs": [],
   "source": [
    "driver.find_element_by_id(\"claims\").text"
   ]
  },
  {
   "cell_type": "raw",
   "id": "89f1458b",
   "metadata": {},
   "source": []
  },
  {
   "cell_type": "code",
   "execution_count": null,
   "id": "f559666a",
   "metadata": {},
   "outputs": [],
   "source": [
    "driver.find_element_by_id('description').text"
   ]
  },
  {
   "cell_type": "code",
   "execution_count": null,
   "id": "65bc551c",
   "metadata": {},
   "outputs": [],
   "source": []
  },
  {
   "cell_type": "code",
   "execution_count": null,
   "id": "60b38b36",
   "metadata": {},
   "outputs": [],
   "source": [
    "st7 = driver.find_element_by_tag_name(\"a\")\n",
    "st7"
   ]
  },
  {
   "cell_type": "code",
   "execution_count": null,
   "id": "6a73b230",
   "metadata": {},
   "outputs": [],
   "source": [
    "driver.find_element_by_tag_name('a')"
   ]
  },
  {
   "cell_type": "code",
   "execution_count": null,
   "id": "2a721f39",
   "metadata": {},
   "outputs": [],
   "source": [
    "from scrapy.selector import Selector\n",
    "Selector(driver.getpagesource())"
   ]
  },
  {
   "cell_type": "code",
   "execution_count": null,
   "id": "5ba3988a",
   "metadata": {},
   "outputs": [],
   "source": [
    "dir(scrapy)"
   ]
  },
  {
   "cell_type": "code",
   "execution_count": 11,
   "id": "702e1fc3",
   "metadata": {},
   "outputs": [
    {
     "name": "stdout",
     "output_type": "stream",
     "text": [
      "https://patents.google.com/patent/US20120290487A1/en?oq=US20120290487A1#\n",
      "https://patents.google.com/patent/US20120290487A1/en?oq=US20120290487A1#\n",
      "https://patents.google.com/patent/US20120290487A1/en?oq=US20120290487A1#\n",
      "https://patents.google.com/patent/US20120290487A1/en?oq=US20120290487A1#\n",
      "https://patents.google.com/patent/US20120290487A1/en?oq=US20120290487A1#\n",
      "https://patents.google.com/patent/US20120290487A1/en?oq=US20120290487A1#\n",
      "https://patents.google.com/patent/US20120290487A1/en?oq=US20120290487A1#\n",
      "https://patents.google.com/patent/US20120290487A1/en?oq=US20120290487A1#\n",
      "https://patents.google.com/patent/US20120290487A1/en?oq=US20120290487A1#\n",
      "https://patents.google.com/patent/US20120290487A1/en?oq=US20120290487A1#\n",
      "https://patents.google.com/patent/US20120290487A1/en?oq=US20120290487A1#\n",
      "https://patentimages.storage.googleapis.com/98/e4/e8/27807da31377f2/US20120290487A1.pdf\n",
      "https://patents.google.com/patent/US20120290487A1/en?oq=US20120290487A1#\n",
      "https://patents.google.com/patent/US20120290487A1/en?oq=US20120290487A1#\n",
      "https://patents.google.com/patent/US20120290487A1/en?oq=US20120290487A1#\n",
      "https://patents.google.com/patent/US20120290487A1/en?oq=US20120290487A1#\n",
      "https://patents.google.com/?inventor=John+Charles+Vogel\n",
      "https://patents.google.com/patent/US20120290487A1/en?oq=US20120290487A1#\n",
      "https://patents.google.com/patent/US20120290487A1/en?oq=US20120290487A1#\n",
      "https://patents.google.com/patent/US20120290487A1/en?oq=US20120290487A1#\n",
      "https://patents.google.com/patent/US20120290487A1/en?oq=US20120290487A1#\n",
      "https://patents.google.com/patent/US20120290487A1/en?oq=US20120290487A1#\n",
      "https://patents.google.com/patent/US20120290487A1/en?oq=US20120290487A1#\n",
      "https://patents.google.com/patent/US20120290487A1/en?oq=US20120290487A1#\n",
      "https://patents.google.com/patent/US20120290487A1/en?oq=US20120290487A1#\n",
      "https://patents.google.com/patent/US20120290487A1/en?oq=US20120290487A1#patentCitations\n",
      "https://patents.google.com/patent/US20120290487A1/en?oq=US20120290487A1#nplCitations\n",
      "https://patents.google.com/patent/US20120290487A1/en?oq=US20120290487A1#citedBy\n",
      "https://patents.google.com/patent/US20120290487A1/en?oq=US20120290487A1#legalEvents\n",
      "https://patents.google.com/patent/US20120290487A1/en?oq=US20120290487A1#similarDocuments\n",
      "https://patents.google.com/patent/US20120290487A1/en?oq=US20120290487A1#relatedApplications\n",
      "http://appft.uspto.gov/netacgi/nph-Parser?Sect1=PTO1&Sect2=HITOFF&p=1&u=/netahtml/PTO/srchnum.html&r=1&f=G&l=50&d=PG01&s1=20120290487.PGNR.\n",
      "https://assignment.uspto.gov/patent/index.html#/patent/search/resultFilter?searchInput=20120290487\n",
      "http://worldwide.espacenet.com/publicationDetails/biblio?CC=US&NR=2012290487A1&KC=A1&FT=D\n",
      "http://globaldossier.uspto.gov/#/result/publication/US/20120290487/1\n",
      "https://patents.stackexchange.com/questions/tagged/US20120290487\n",
      "https://patents.google.com/patent/US20120290487A1/en?oq=US20120290487A1#title\n",
      "https://patents.google.com/patent/US20120290487A1/en?oq=US20120290487A1#\n",
      "https://patents.google.com/patent/US20120290487A1/en?oq=US20120290487A1#\n",
      "https://patents.google.com/patent/US20120290487A1/en?oq=US20120290487A1#\n",
      "https://patents.google.com/patent/US20120290487A1/en?oq=US20120290487A1#\n",
      "https://patents.google.com/patent/US20120290487A1/en?oq=US20120290487A1#\n",
      "https://patents.google.com/patent/US20120290487A1/en?oq=US20120290487A1#\n",
      "https://patents.google.com/patent/US20120290487A1/en?oq=US20120290487A1#\n",
      "https://patents.google.com/patent/US20120290487A1/en?oq=US20120290487A1#\n",
      "https://patents.google.com/patent/US20120290487A1/en?oq=US20120290487A1#\n",
      "https://patents.google.com/patent/US20120290487A1/en?oq=US20120290487A1#\n",
      "https://patents.google.com/patent/US20120290487A1/en?oq=US20120290487A1#\n",
      "https://patents.google.com/patent/US20120290487A1/en?oq=US20120290487A1#\n",
      "https://patents.google.com/patent/US20120290487A1/en?oq=US20120290487A1#\n",
      "https://patents.google.com/patent/US20120290487A1/en?oq=US20120290487A1#\n",
      "https://patents.google.com/patent/US20120290487A1/en?oq=US20120290487A1#\n",
      "https://patents.google.com/patent/US20120290487A1/en?oq=US20120290487A1#\n",
      "https://patents.google.com/patent/US20120290487A1/en?oq=US20120290487A1#\n",
      "https://patents.google.com/patent/US20120290487A1/en?oq=US20120290487A1#\n",
      "https://patents.google.com/patent/US20120290487A1/en?oq=US20120290487A1#\n",
      "https://patents.google.com/patent/US20120290487A1/en?oq=US20120290487A1#\n",
      "https://patents.google.com/patent/US20120290487A1/en?oq=US20120290487A1#\n",
      "https://patents.google.com/patent/US20120290487A1/en?oq=US20120290487A1#\n",
      "https://patents.google.com/patent/US20120290487A1/en?oq=US20120290487A1#\n",
      "https://patents.google.com/patent/US20120290487A1/en?oq=US20120290487A1#\n",
      "https://patents.google.com/patent/US20120290487A1/en?oq=US20120290487A1#\n",
      "https://patents.google.com/patent/US20120290487A1/en?oq=US20120290487A1#\n",
      "https://patents.google.com/patent/US20120290487A1/en?oq=US20120290487A1#\n",
      "https://patents.google.com/patent/US20120290487A1/en?oq=US20120290487A1#\n",
      "https://patents.google.com/patent/US20120290487A1/en?oq=US20120290487A1#\n",
      "https://patents.google.com/patent/US20120290487A1/en?oq=US20120290487A1#\n",
      "https://patents.google.com/patent/US20120290487A1/en?oq=US20120290487A1#title\n",
      "https://patents.google.com/patent/US20120290487A1/en?oq=US20120290487A1#title\n",
      "https://patents.google.com/patent/US20120290487A1/en?oq=US20120290487A1#\n",
      "https://patents.google.com/patent/US20120290487A1/en?oq=US20120290487A1#\n",
      "https://patents.google.com/patent/US20120290487A1/en?oq=US20120290487A1#\n",
      "https://patents.google.com/patent/US20120290487A1/en?oq=US20120290487A1#\n",
      "https://patents.google.com/patent/US20120290487A1/en?oq=US20120290487A1#\n",
      "https://patents.google.com/patent/US20120290487A1/en?oq=US20120290487A1#\n",
      "https://patents.google.com/patent/US20120290487A1/en?oq=US20120290487A1#\n",
      "https://patents.google.com/patent/US20120290487A1/en?oq=US20120290487A1#\n",
      "https://patents.google.com/patent/US20120290487A1/en?oq=US20120290487A1#\n",
      "https://patents.google.com/patent/US20120290487A1/en?oq=US20120290487A1#\n",
      "https://patents.google.com/patent/US20120290487A1/en?oq=US20120290487A1#\n",
      "https://patents.google.com/patent/US20120290487A1/en?oq=US20120290487A1#\n",
      "https://patents.google.com/patent/US20120290487A1/en?oq=US20120290487A1#\n",
      "https://patents.google.com/patent/US20120290487A1/en?oq=US20120290487A1#\n",
      "https://patents.google.com/patent/US20120290487A1/en?oq=US20120290487A1#\n",
      "https://patents.google.com/patent/US20120290487A1/en?oq=US20120290487A1#\n",
      "https://patents.google.com/patent/US20120290487A1/en?oq=US20120290487A1#\n",
      "https://patents.google.com/patent/US20120290487A1/en?oq=US20120290487A1#\n",
      "https://patents.google.com/patent/US20120290487A1/en?oq=US20120290487A1#\n",
      "https://patents.google.com/patent/US20120290487A1/en?oq=US20120290487A1#\n",
      "https://patents.google.com/patent/US20120290487A1/en?oq=US20120290487A1#\n",
      "https://patents.google.com/patent/US20120290487A1/en?oq=US20120290487A1#\n",
      "https://patents.google.com/patent/US20120290487A1/en?oq=US20120290487A1#\n",
      "https://patents.google.com/patent/US20120290487A1/en?oq=US20120290487A1#\n",
      "https://patents.google.com/patent/US20120290487A1/en?oq=US20120290487A1#\n",
      "https://patents.google.com/patent/US20120290487A1/en?oq=US20120290487A1#\n",
      "https://patents.google.com/patent/US20120290487A1/en?oq=US20120290487A1#\n",
      "https://patents.google.com/patent/US20120290487A1/en?oq=US20120290487A1#\n",
      "https://patents.google.com/patent/US20120290487A1/en?oq=US20120290487A1#\n",
      "https://patents.google.com/patent/US20120290487A1/en?oq=US20120290487A1#title\n",
      "https://patents.google.com/patent/US20120290487A1/en?oq=US20120290487A1#\n",
      "https://patents.google.com/patent/US20120290487A1/en?oq=US20120290487A1#\n",
      "https://patents.google.com/patent/US20120290487A1/en?oq=US20120290487A1#\n",
      "https://patents.google.com/patent/US20120290487A1/en?oq=US20120290487A1#\n",
      "https://patents.google.com/patent/US20120290487A1/en?oq=US20120290487A1#\n",
      "https://patents.google.com/patent/US20120290487A1/en?oq=US20120290487A1#\n",
      "https://patents.google.com/patent/US20120290487A1/en?oq=US20120290487A1#\n",
      "https://patents.google.com/patent/US20120290487A1/en?oq=US20120290487A1#\n",
      "https://patents.google.com/patent/US20120290487A1/en?oq=US20120290487A1#\n",
      "https://patents.google.com/patent/US20120290487A1/en?oq=US20120290487A1#\n",
      "https://patents.google.com/patent/US20120290487A1/en?oq=US20120290487A1#\n",
      "https://patents.google.com/patent/US20120290487A1/en?oq=US20120290487A1#\n",
      "https://patents.google.com/patent/US20120290487A1/en?oq=US20120290487A1#\n",
      "https://patents.google.com/patent/US20120290487A1/en?oq=US20120290487A1#\n",
      "https://patents.google.com/patent/US20120290487A1/en?oq=US20120290487A1#\n",
      "https://patents.google.com/patent/US20120290487A1/en?oq=US20120290487A1#\n",
      "https://patents.google.com/patent/US20120290487A1/en?oq=US20120290487A1#\n",
      "https://patents.google.com/patent/US20120290487A1/en?oq=US20120290487A1#\n",
      "https://patents.google.com/patent/US20120290487A1/en?oq=US20120290487A1#\n",
      "https://patents.google.com/patent/US20120290487A1/en?oq=US20120290487A1#\n",
      "https://patents.google.com/patent/US20120290487A1/en?oq=US20120290487A1#\n",
      "https://patents.google.com/patent/US20120290487A1/en?oq=US20120290487A1#\n",
      "https://patents.google.com/patent/US20120290487A1/en?oq=US20120290487A1#\n",
      "https://patents.google.com/patent/US20120290487A1/en?oq=US20120290487A1#\n",
      "https://patents.google.com/patent/US20120290487A1/en?oq=US20120290487A1#\n",
      "https://patents.google.com/patent/US20120290487A1/en?oq=US20120290487A1#title\n",
      "https://patents.google.com/patent/US20120290487A1/en?oq=US20120290487A1#\n",
      "https://patents.google.com/patent/US20120290487A1/en?oq=US20120290487A1#title\n",
      "https://patents.google.com/patent/US20120290487A1/en?oq=US20120290487A1#\n"
     ]
    },
    {
     "name": "stdout",
     "output_type": "stream",
     "text": [
      "https://patents.google.com/patent/US20120290487A1/en?oq=US20120290487A1#\n",
      "https://patents.google.com/patent/US20120290487A1/en?oq=US20120290487A1#title\n",
      "https://patents.google.com/patent/US20120290487A1/en?oq=US20120290487A1#title\n",
      "https://patents.google.com/patent/US20120290487A1/en?oq=US20120290487A1#\n",
      "https://patents.google.com/patent/US20120290487A1/en?oq=US20120290487A1#\n",
      "https://support.google.com/faqs/answer/6390996\n",
      "https://patents.google.com/patent/US20120290487A1/en?oq=US20120290487A1#\n",
      "https://console.cloud.google.com/launcher/partners/patents-public-data\n",
      "https://www.google.com/policies/terms/\n",
      "https://www.google.com/privacy/privacy-policy.html\n"
     ]
    }
   ],
   "source": [
    "for a in driver.find_elements_by_xpath('//a'):\n",
    "    print(a.get_attribute('href'))"
   ]
  },
  {
   "cell_type": "code",
   "execution_count": 14,
   "id": "b297c340",
   "metadata": {},
   "outputs": [
    {
     "name": "stdout",
     "output_type": "stream",
     "text": [
      "https://patents.google.com/patent/US20120290487A1/en?oq=US20120290487A1#\n",
      "https://patents.google.com/patent/US20120290487A1/en?oq=US20120290487A1#\n",
      "https://patents.google.com/patent/US20120290487A1/en?oq=US20120290487A1#\n",
      "https://patents.google.com/patent/US20120290487A1/en?oq=US20120290487A1#\n",
      "https://patents.google.com/patent/US20120290487A1/en?oq=US20120290487A1#\n",
      "https://patents.google.com/patent/US20120290487A1/en?oq=US20120290487A1#\n",
      "https://patents.google.com/patent/US20120290487A1/en?oq=US20120290487A1#\n",
      "https://patents.google.com/patent/US20120290487A1/en?oq=US20120290487A1#\n",
      "https://patents.google.com/patent/US20120290487A1/en?oq=US20120290487A1#\n",
      "https://patents.google.com/patent/US20120290487A1/en?oq=US20120290487A1#\n",
      "https://patents.google.com/patent/US20120290487A1/en?oq=US20120290487A1#\n",
      "https://patentimages.storage.googleapis.com/98/e4/e8/27807da31377f2/US20120290487A1.pdf\n",
      "https://patents.google.com/patent/US20120290487A1/en?oq=US20120290487A1#\n",
      "https://patents.google.com/patent/US20120290487A1/en?oq=US20120290487A1#\n",
      "https://patents.google.com/patent/US20120290487A1/en?oq=US20120290487A1#\n",
      "https://patents.google.com/patent/US20120290487A1/en?oq=US20120290487A1#\n",
      "https://patents.google.com/?inventor=John+Charles+Vogel\n",
      "https://patents.google.com/patent/US20120290487A1/en?oq=US20120290487A1#\n",
      "https://patents.google.com/patent/US20120290487A1/en?oq=US20120290487A1#\n",
      "https://patents.google.com/patent/US20120290487A1/en?oq=US20120290487A1#\n",
      "https://patents.google.com/patent/US20120290487A1/en?oq=US20120290487A1#\n",
      "https://patents.google.com/patent/US20120290487A1/en?oq=US20120290487A1#\n",
      "https://patents.google.com/patent/US20120290487A1/en?oq=US20120290487A1#\n",
      "https://patents.google.com/patent/US20120290487A1/en?oq=US20120290487A1#\n",
      "https://patents.google.com/patent/US20120290487A1/en?oq=US20120290487A1#\n",
      "https://patents.google.com/patent/US20120290487A1/en?oq=US20120290487A1#patentCitations\n",
      "https://patents.google.com/patent/US20120290487A1/en?oq=US20120290487A1#nplCitations\n",
      "https://patents.google.com/patent/US20120290487A1/en?oq=US20120290487A1#citedBy\n",
      "https://patents.google.com/patent/US20120290487A1/en?oq=US20120290487A1#legalEvents\n",
      "https://patents.google.com/patent/US20120290487A1/en?oq=US20120290487A1#similarDocuments\n",
      "https://patents.google.com/patent/US20120290487A1/en?oq=US20120290487A1#relatedApplications\n",
      "http://appft.uspto.gov/netacgi/nph-Parser?Sect1=PTO1&Sect2=HITOFF&p=1&u=/netahtml/PTO/srchnum.html&r=1&f=G&l=50&d=PG01&s1=20120290487.PGNR.\n",
      "https://assignment.uspto.gov/patent/index.html#/patent/search/resultFilter?searchInput=20120290487\n",
      "http://worldwide.espacenet.com/publicationDetails/biblio?CC=US&NR=2012290487A1&KC=A1&FT=D\n",
      "http://globaldossier.uspto.gov/#/result/publication/US/20120290487/1\n",
      "https://patents.stackexchange.com/questions/tagged/US20120290487\n",
      "https://patents.google.com/patent/US20120290487A1/en?oq=US20120290487A1#title\n",
      "https://patents.google.com/patent/US20120290487A1/en?oq=US20120290487A1#\n",
      "https://patents.google.com/patent/US20120290487A1/en?oq=US20120290487A1#\n",
      "https://patents.google.com/patent/US20120290487A1/en?oq=US20120290487A1#\n",
      "https://patents.google.com/patent/US20120290487A1/en?oq=US20120290487A1#\n",
      "https://patents.google.com/patent/US20120290487A1/en?oq=US20120290487A1#\n",
      "https://patents.google.com/patent/US20120290487A1/en?oq=US20120290487A1#\n",
      "https://patents.google.com/patent/US20120290487A1/en?oq=US20120290487A1#\n",
      "https://patents.google.com/patent/US20120290487A1/en?oq=US20120290487A1#\n",
      "https://patents.google.com/patent/US20120290487A1/en?oq=US20120290487A1#\n",
      "https://patents.google.com/patent/US20120290487A1/en?oq=US20120290487A1#\n",
      "https://patents.google.com/patent/US20120290487A1/en?oq=US20120290487A1#\n",
      "https://patents.google.com/patent/US20120290487A1/en?oq=US20120290487A1#\n",
      "https://patents.google.com/patent/US20120290487A1/en?oq=US20120290487A1#\n",
      "https://patents.google.com/patent/US20120290487A1/en?oq=US20120290487A1#\n",
      "https://patents.google.com/patent/US20120290487A1/en?oq=US20120290487A1#\n",
      "https://patents.google.com/patent/US20120290487A1/en?oq=US20120290487A1#\n",
      "https://patents.google.com/patent/US20120290487A1/en?oq=US20120290487A1#\n",
      "https://patents.google.com/patent/US20120290487A1/en?oq=US20120290487A1#\n",
      "https://patents.google.com/patent/US20120290487A1/en?oq=US20120290487A1#\n",
      "https://patents.google.com/patent/US20120290487A1/en?oq=US20120290487A1#\n",
      "https://patents.google.com/patent/US20120290487A1/en?oq=US20120290487A1#\n",
      "https://patents.google.com/patent/US20120290487A1/en?oq=US20120290487A1#\n",
      "https://patents.google.com/patent/US20120290487A1/en?oq=US20120290487A1#\n",
      "https://patents.google.com/patent/US20120290487A1/en?oq=US20120290487A1#\n",
      "https://patents.google.com/patent/US20120290487A1/en?oq=US20120290487A1#\n",
      "https://patents.google.com/patent/US20120290487A1/en?oq=US20120290487A1#\n",
      "https://patents.google.com/patent/US20120290487A1/en?oq=US20120290487A1#\n",
      "https://patents.google.com/patent/US20120290487A1/en?oq=US20120290487A1#\n",
      "https://patents.google.com/patent/US20120290487A1/en?oq=US20120290487A1#\n",
      "https://patents.google.com/patent/US20120290487A1/en?oq=US20120290487A1#\n",
      "https://patents.google.com/patent/US20120290487A1/en?oq=US20120290487A1#title\n",
      "https://patents.google.com/patent/US20120290487A1/en?oq=US20120290487A1#title\n",
      "https://patents.google.com/patent/US20120290487A1/en?oq=US20120290487A1#\n",
      "https://patents.google.com/patent/US20120290487A1/en?oq=US20120290487A1#\n",
      "https://patents.google.com/patent/US20120290487A1/en?oq=US20120290487A1#\n",
      "https://patents.google.com/patent/US20120290487A1/en?oq=US20120290487A1#\n",
      "https://patents.google.com/patent/US20120290487A1/en?oq=US20120290487A1#\n",
      "https://patents.google.com/patent/US20120290487A1/en?oq=US20120290487A1#\n",
      "https://patents.google.com/patent/US20120290487A1/en?oq=US20120290487A1#\n",
      "https://patents.google.com/patent/US20120290487A1/en?oq=US20120290487A1#\n",
      "https://patents.google.com/patent/US20120290487A1/en?oq=US20120290487A1#\n",
      "https://patents.google.com/patent/US20120290487A1/en?oq=US20120290487A1#\n",
      "https://patents.google.com/patent/US20120290487A1/en?oq=US20120290487A1#\n",
      "https://patents.google.com/patent/US20120290487A1/en?oq=US20120290487A1#\n",
      "https://patents.google.com/patent/US20120290487A1/en?oq=US20120290487A1#\n",
      "https://patents.google.com/patent/US20120290487A1/en?oq=US20120290487A1#\n",
      "https://patents.google.com/patent/US20120290487A1/en?oq=US20120290487A1#\n",
      "https://patents.google.com/patent/US20120290487A1/en?oq=US20120290487A1#\n",
      "https://patents.google.com/patent/US20120290487A1/en?oq=US20120290487A1#\n",
      "https://patents.google.com/patent/US20120290487A1/en?oq=US20120290487A1#\n",
      "https://patents.google.com/patent/US20120290487A1/en?oq=US20120290487A1#\n",
      "https://patents.google.com/patent/US20120290487A1/en?oq=US20120290487A1#\n",
      "https://patents.google.com/patent/US20120290487A1/en?oq=US20120290487A1#\n",
      "https://patents.google.com/patent/US20120290487A1/en?oq=US20120290487A1#\n",
      "https://patents.google.com/patent/US20120290487A1/en?oq=US20120290487A1#\n",
      "https://patents.google.com/patent/US20120290487A1/en?oq=US20120290487A1#\n",
      "https://patents.google.com/patent/US20120290487A1/en?oq=US20120290487A1#\n",
      "https://patents.google.com/patent/US20120290487A1/en?oq=US20120290487A1#\n",
      "https://patents.google.com/patent/US20120290487A1/en?oq=US20120290487A1#\n",
      "https://patents.google.com/patent/US20120290487A1/en?oq=US20120290487A1#\n",
      "https://patents.google.com/patent/US20120290487A1/en?oq=US20120290487A1#\n",
      "https://patents.google.com/patent/US20120290487A1/en?oq=US20120290487A1#title\n",
      "https://patents.google.com/patent/US20120290487A1/en?oq=US20120290487A1#\n",
      "https://patents.google.com/patent/US20120290487A1/en?oq=US20120290487A1#\n",
      "https://patents.google.com/patent/US20120290487A1/en?oq=US20120290487A1#\n",
      "https://patents.google.com/patent/US20120290487A1/en?oq=US20120290487A1#\n",
      "https://patents.google.com/patent/US20120290487A1/en?oq=US20120290487A1#\n",
      "https://patents.google.com/patent/US20120290487A1/en?oq=US20120290487A1#\n",
      "https://patents.google.com/patent/US20120290487A1/en?oq=US20120290487A1#\n",
      "https://patents.google.com/patent/US20120290487A1/en?oq=US20120290487A1#\n",
      "https://patents.google.com/patent/US20120290487A1/en?oq=US20120290487A1#\n",
      "https://patents.google.com/patent/US20120290487A1/en?oq=US20120290487A1#\n",
      "https://patents.google.com/patent/US20120290487A1/en?oq=US20120290487A1#\n",
      "https://patents.google.com/patent/US20120290487A1/en?oq=US20120290487A1#\n",
      "https://patents.google.com/patent/US20120290487A1/en?oq=US20120290487A1#\n",
      "https://patents.google.com/patent/US20120290487A1/en?oq=US20120290487A1#\n",
      "https://patents.google.com/patent/US20120290487A1/en?oq=US20120290487A1#\n",
      "https://patents.google.com/patent/US20120290487A1/en?oq=US20120290487A1#\n",
      "https://patents.google.com/patent/US20120290487A1/en?oq=US20120290487A1#\n",
      "https://patents.google.com/patent/US20120290487A1/en?oq=US20120290487A1#\n",
      "https://patents.google.com/patent/US20120290487A1/en?oq=US20120290487A1#\n",
      "https://patents.google.com/patent/US20120290487A1/en?oq=US20120290487A1#\n",
      "https://patents.google.com/patent/US20120290487A1/en?oq=US20120290487A1#\n",
      "https://patents.google.com/patent/US20120290487A1/en?oq=US20120290487A1#\n",
      "https://patents.google.com/patent/US20120290487A1/en?oq=US20120290487A1#\n",
      "https://patents.google.com/patent/US20120290487A1/en?oq=US20120290487A1#\n",
      "https://patents.google.com/patent/US20120290487A1/en?oq=US20120290487A1#\n",
      "https://patents.google.com/patent/US20120290487A1/en?oq=US20120290487A1#title\n",
      "https://patents.google.com/patent/US20120290487A1/en?oq=US20120290487A1#\n",
      "https://patents.google.com/patent/US20120290487A1/en?oq=US20120290487A1#title\n",
      "https://patents.google.com/patent/US20120290487A1/en?oq=US20120290487A1#\n",
      "https://patents.google.com/patent/US20120290487A1/en?oq=US20120290487A1#\n",
      "https://patents.google.com/patent/US20120290487A1/en?oq=US20120290487A1#title\n",
      "https://patents.google.com/patent/US20120290487A1/en?oq=US20120290487A1#title\n",
      "https://patents.google.com/patent/US20120290487A1/en?oq=US20120290487A1#\n",
      "https://patents.google.com/patent/US20120290487A1/en?oq=US20120290487A1#\n",
      "https://support.google.com/faqs/answer/6390996\n",
      "https://patents.google.com/patent/US20120290487A1/en?oq=US20120290487A1#\n",
      "https://console.cloud.google.com/launcher/partners/patents-public-data\n",
      "https://www.google.com/policies/terms/\n"
     ]
    },
    {
     "name": "stdout",
     "output_type": "stream",
     "text": [
      "https://www.google.com/privacy/privacy-policy.html\n"
     ]
    }
   ],
   "source": [
    "for a in driver.find_elements_by_xpath('//a[@href]'):\n",
    "    print(a.get_attribute('href'))"
   ]
  },
  {
   "cell_type": "code",
   "execution_count": 30,
   "id": "8c4289cd",
   "metadata": {},
   "outputs": [
    {
     "data": {
      "text/plain": [
       "0"
      ]
     },
     "execution_count": 30,
     "metadata": {},
     "output_type": "execute_result"
    }
   ],
   "source": [
    "len (driver.find_elements_by_xpath(\"//*[class='tr']\"))"
   ]
  },
  {
   "cell_type": "code",
   "execution_count": 47,
   "id": "6858ab4e",
   "metadata": {},
   "outputs": [
    {
     "data": {
      "text/plain": [
       "497"
      ]
     },
     "execution_count": 47,
     "metadata": {},
     "output_type": "execute_result"
    }
   ],
   "source": [
    "len(driver.find_elements_by_xpath(\"//div/span[contains(@class, 'patent-result')]\"))"
   ]
  },
  {
   "cell_type": "code",
   "execution_count": null,
   "id": "e8b3a748",
   "metadata": {},
   "outputs": [],
   "source": []
  }
 ],
 "metadata": {
  "kernelspec": {
   "display_name": "Python 3",
   "language": "python",
   "name": "python3"
  },
  "language_info": {
   "codemirror_mode": {
    "name": "ipython",
    "version": 3
   },
   "file_extension": ".py",
   "mimetype": "text/x-python",
   "name": "python",
   "nbconvert_exporter": "python",
   "pygments_lexer": "ipython3",
   "version": "3.6.9"
  }
 },
 "nbformat": 4,
 "nbformat_minor": 5
}
